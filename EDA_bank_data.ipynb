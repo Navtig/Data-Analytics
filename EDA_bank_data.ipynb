{
 "cells": [
  {
   "cell_type": "markdown",
   "id": "given-buying",
   "metadata": {},
   "source": [
    "# <center> EDA анализ и прогнозирование оттока клиентов </center>"
   ]
  },
  {
   "cell_type": "markdown",
   "id": "loved-trinidad",
   "metadata": {},
   "source": [
    "Анализ производится по просьбе отдела маркетинга банка N. Требуется выяснить, какие факторы влияют на показатель оттока клиентов и подобрать модель для его последующего прогнозирования. \n",
    "\n",
    "Результаты исследования будут использоваться при планировании рекламных кампаний и построении системы работы с клиентом."
   ]
  },
  {
   "cell_type": "markdown",
   "id": "intimate-upper",
   "metadata": {},
   "source": [
    "<hr style=\"border:1px solid gray\"> </hr>"
   ]
  },
  {
   "cell_type": "markdown",
   "id": "sharp-journalism",
   "metadata": {},
   "source": [
    "## Ознакомление с данными"
   ]
  },
  {
   "cell_type": "markdown",
   "id": "accompanied-bread",
   "metadata": {},
   "source": [
    "Импортирование необходимых библиотек"
   ]
  },
  {
   "cell_type": "code",
   "execution_count": 1,
   "id": "patent-photography",
   "metadata": {},
   "outputs": [],
   "source": [
    "import os\n",
    "import pandas as pd\n",
    "import numpy as np\n",
    "import matplotlib.pyplot as plt\n",
    "import seaborn as sns\n",
    "%matplotlib inline"
   ]
  },
  {
   "cell_type": "markdown",
   "id": "framed-corporation",
   "metadata": {},
   "source": [
    "Чтение датасета"
   ]
  },
  {
   "cell_type": "code",
   "execution_count": 2,
   "id": "important-petroleum",
   "metadata": {},
   "outputs": [
    {
     "data": {
      "text/html": [
       "<div>\n",
       "<style scoped>\n",
       "    .dataframe tbody tr th:only-of-type {\n",
       "        vertical-align: middle;\n",
       "    }\n",
       "\n",
       "    .dataframe tbody tr th {\n",
       "        vertical-align: top;\n",
       "    }\n",
       "\n",
       "    .dataframe thead th {\n",
       "        text-align: right;\n",
       "    }\n",
       "</style>\n",
       "<table border=\"1\" class=\"dataframe\">\n",
       "  <thead>\n",
       "    <tr style=\"text-align: right;\">\n",
       "      <th></th>\n",
       "      <th>RowNumber</th>\n",
       "      <th>CustomerId</th>\n",
       "      <th>Surname</th>\n",
       "      <th>CreditScore</th>\n",
       "      <th>Geography</th>\n",
       "      <th>Gender</th>\n",
       "      <th>Age</th>\n",
       "      <th>Tenure</th>\n",
       "      <th>Balance</th>\n",
       "      <th>NumOfProducts</th>\n",
       "      <th>HasCrCard</th>\n",
       "      <th>IsActiveMember</th>\n",
       "      <th>EstimatedSalary</th>\n",
       "      <th>Exited</th>\n",
       "    </tr>\n",
       "  </thead>\n",
       "  <tbody>\n",
       "    <tr>\n",
       "      <th>0</th>\n",
       "      <td>1</td>\n",
       "      <td>15634602</td>\n",
       "      <td>Hargrave</td>\n",
       "      <td>619</td>\n",
       "      <td>France</td>\n",
       "      <td>Female</td>\n",
       "      <td>42</td>\n",
       "      <td>2</td>\n",
       "      <td>0.00</td>\n",
       "      <td>1</td>\n",
       "      <td>1</td>\n",
       "      <td>1</td>\n",
       "      <td>101348.88</td>\n",
       "      <td>1</td>\n",
       "    </tr>\n",
       "    <tr>\n",
       "      <th>1</th>\n",
       "      <td>2</td>\n",
       "      <td>15647311</td>\n",
       "      <td>Hill</td>\n",
       "      <td>608</td>\n",
       "      <td>Spain</td>\n",
       "      <td>Female</td>\n",
       "      <td>41</td>\n",
       "      <td>1</td>\n",
       "      <td>83807.86</td>\n",
       "      <td>1</td>\n",
       "      <td>0</td>\n",
       "      <td>1</td>\n",
       "      <td>112542.58</td>\n",
       "      <td>0</td>\n",
       "    </tr>\n",
       "    <tr>\n",
       "      <th>2</th>\n",
       "      <td>3</td>\n",
       "      <td>15619304</td>\n",
       "      <td>Onio</td>\n",
       "      <td>502</td>\n",
       "      <td>France</td>\n",
       "      <td>Female</td>\n",
       "      <td>42</td>\n",
       "      <td>8</td>\n",
       "      <td>159660.80</td>\n",
       "      <td>3</td>\n",
       "      <td>1</td>\n",
       "      <td>0</td>\n",
       "      <td>113931.57</td>\n",
       "      <td>1</td>\n",
       "    </tr>\n",
       "    <tr>\n",
       "      <th>3</th>\n",
       "      <td>4</td>\n",
       "      <td>15701354</td>\n",
       "      <td>Boni</td>\n",
       "      <td>699</td>\n",
       "      <td>France</td>\n",
       "      <td>Female</td>\n",
       "      <td>39</td>\n",
       "      <td>1</td>\n",
       "      <td>0.00</td>\n",
       "      <td>2</td>\n",
       "      <td>0</td>\n",
       "      <td>0</td>\n",
       "      <td>93826.63</td>\n",
       "      <td>0</td>\n",
       "    </tr>\n",
       "    <tr>\n",
       "      <th>4</th>\n",
       "      <td>5</td>\n",
       "      <td>15737888</td>\n",
       "      <td>Mitchell</td>\n",
       "      <td>850</td>\n",
       "      <td>Spain</td>\n",
       "      <td>Female</td>\n",
       "      <td>43</td>\n",
       "      <td>2</td>\n",
       "      <td>125510.82</td>\n",
       "      <td>1</td>\n",
       "      <td>1</td>\n",
       "      <td>1</td>\n",
       "      <td>79084.10</td>\n",
       "      <td>0</td>\n",
       "    </tr>\n",
       "    <tr>\n",
       "      <th>5</th>\n",
       "      <td>6</td>\n",
       "      <td>15574012</td>\n",
       "      <td>Chu</td>\n",
       "      <td>645</td>\n",
       "      <td>Spain</td>\n",
       "      <td>Male</td>\n",
       "      <td>44</td>\n",
       "      <td>8</td>\n",
       "      <td>113755.78</td>\n",
       "      <td>2</td>\n",
       "      <td>1</td>\n",
       "      <td>0</td>\n",
       "      <td>149756.71</td>\n",
       "      <td>1</td>\n",
       "    </tr>\n",
       "    <tr>\n",
       "      <th>6</th>\n",
       "      <td>7</td>\n",
       "      <td>15592531</td>\n",
       "      <td>Bartlett</td>\n",
       "      <td>822</td>\n",
       "      <td>France</td>\n",
       "      <td>Male</td>\n",
       "      <td>50</td>\n",
       "      <td>7</td>\n",
       "      <td>0.00</td>\n",
       "      <td>2</td>\n",
       "      <td>1</td>\n",
       "      <td>1</td>\n",
       "      <td>10062.80</td>\n",
       "      <td>0</td>\n",
       "    </tr>\n",
       "    <tr>\n",
       "      <th>7</th>\n",
       "      <td>8</td>\n",
       "      <td>15656148</td>\n",
       "      <td>Obinna</td>\n",
       "      <td>376</td>\n",
       "      <td>Germany</td>\n",
       "      <td>Female</td>\n",
       "      <td>29</td>\n",
       "      <td>4</td>\n",
       "      <td>115046.74</td>\n",
       "      <td>4</td>\n",
       "      <td>1</td>\n",
       "      <td>0</td>\n",
       "      <td>119346.88</td>\n",
       "      <td>1</td>\n",
       "    </tr>\n",
       "    <tr>\n",
       "      <th>8</th>\n",
       "      <td>9</td>\n",
       "      <td>15792365</td>\n",
       "      <td>He</td>\n",
       "      <td>501</td>\n",
       "      <td>France</td>\n",
       "      <td>Male</td>\n",
       "      <td>44</td>\n",
       "      <td>4</td>\n",
       "      <td>142051.07</td>\n",
       "      <td>2</td>\n",
       "      <td>0</td>\n",
       "      <td>1</td>\n",
       "      <td>74940.50</td>\n",
       "      <td>0</td>\n",
       "    </tr>\n",
       "    <tr>\n",
       "      <th>9</th>\n",
       "      <td>10</td>\n",
       "      <td>15592389</td>\n",
       "      <td>H?</td>\n",
       "      <td>684</td>\n",
       "      <td>France</td>\n",
       "      <td>Male</td>\n",
       "      <td>27</td>\n",
       "      <td>2</td>\n",
       "      <td>134603.88</td>\n",
       "      <td>1</td>\n",
       "      <td>1</td>\n",
       "      <td>1</td>\n",
       "      <td>71725.73</td>\n",
       "      <td>0</td>\n",
       "    </tr>\n",
       "  </tbody>\n",
       "</table>\n",
       "</div>"
      ],
      "text/plain": [
       "   RowNumber  CustomerId   Surname  CreditScore Geography  Gender  Age  \\\n",
       "0          1    15634602  Hargrave          619    France  Female   42   \n",
       "1          2    15647311      Hill          608     Spain  Female   41   \n",
       "2          3    15619304      Onio          502    France  Female   42   \n",
       "3          4    15701354      Boni          699    France  Female   39   \n",
       "4          5    15737888  Mitchell          850     Spain  Female   43   \n",
       "5          6    15574012       Chu          645     Spain    Male   44   \n",
       "6          7    15592531  Bartlett          822    France    Male   50   \n",
       "7          8    15656148    Obinna          376   Germany  Female   29   \n",
       "8          9    15792365        He          501    France    Male   44   \n",
       "9         10    15592389        H?          684    France    Male   27   \n",
       "\n",
       "   Tenure    Balance  NumOfProducts  HasCrCard  IsActiveMember  \\\n",
       "0       2       0.00              1          1               1   \n",
       "1       1   83807.86              1          0               1   \n",
       "2       8  159660.80              3          1               0   \n",
       "3       1       0.00              2          0               0   \n",
       "4       2  125510.82              1          1               1   \n",
       "5       8  113755.78              2          1               0   \n",
       "6       7       0.00              2          1               1   \n",
       "7       4  115046.74              4          1               0   \n",
       "8       4  142051.07              2          0               1   \n",
       "9       2  134603.88              1          1               1   \n",
       "\n",
       "   EstimatedSalary  Exited  \n",
       "0        101348.88       1  \n",
       "1        112542.58       0  \n",
       "2        113931.57       1  \n",
       "3         93826.63       0  \n",
       "4         79084.10       0  \n",
       "5        149756.71       1  \n",
       "6         10062.80       0  \n",
       "7        119346.88       1  \n",
       "8         74940.50       0  \n",
       "9         71725.73       0  "
      ]
     },
     "execution_count": 2,
     "metadata": {},
     "output_type": "execute_result"
    }
   ],
   "source": [
    "df = pd.read_csv(os.path.abspath('Churn_Modelling.csv'))\n",
    "df.head(10)"
   ]
  },
  {
   "cell_type": "markdown",
   "id": "portable-genesis",
   "metadata": {},
   "source": [
    "- **RowNumber:** Номер записи\n",
    "\n",
    "- **CustomerId:** Уникальный ID пользователя\n",
    "\n",
    "- **Surname:** Фамилия клиента\n",
    "\n",
    "- **CreditScore:** Показатель кредитного скоринга клиента \n",
    "\n",
    "- **Geography:** Страна, в которой проживает клиент\n",
    "\n",
    "- **Gender:** Гендер\n",
    "\n",
    "- **Age:** Возраст\n",
    "\n",
    "- **Tenure:** Количество лет пользования услугами банка\n",
    "\n",
    "- **Balance:** Банковский баланс клиента\n",
    "\n",
    "- **NumOfProducts:** Количество банковских продуктов, которыми пользуется клиент\n",
    "\n",
    "- **HasCrCard:** Имеется ли у клиента кредитная карточка этого банка\n",
    "\n",
    "- **IsActiveMember:** Является ли клиент активным для данного банка\n",
    "\n",
    "- **EstimatedSalary:** Приблизительная заработная плата клиента в год в долларах США\n",
    "\n",
    "- **Exited:** 1 - закрыл счет в банке, 0 - имеет открытый счёт"
   ]
  },
  {
   "cell_type": "code",
   "execution_count": 3,
   "id": "valuable-pavilion",
   "metadata": {},
   "outputs": [
    {
     "name": "stdout",
     "output_type": "stream",
     "text": [
      "Количество строк в датасете: 10000\n",
      "Количество столбцов в датасете: 14\n"
     ]
    }
   ],
   "source": [
    "print(f'Количество строк в датасете: {df.shape[0]}')\n",
    "print(f'Количество столбцов в датасете: {df.shape[1]}')"
   ]
  },
  {
   "cell_type": "code",
   "execution_count": 4,
   "id": "85312a8c",
   "metadata": {},
   "outputs": [
    {
     "name": "stdout",
     "output_type": "stream",
     "text": [
      "<class 'pandas.core.frame.DataFrame'>\n",
      "RangeIndex: 10000 entries, 0 to 9999\n",
      "Data columns (total 14 columns):\n",
      " #   Column           Non-Null Count  Dtype  \n",
      "---  ------           --------------  -----  \n",
      " 0   RowNumber        10000 non-null  int64  \n",
      " 1   CustomerId       10000 non-null  int64  \n",
      " 2   Surname          10000 non-null  object \n",
      " 3   CreditScore      10000 non-null  int64  \n",
      " 4   Geography        10000 non-null  object \n",
      " 5   Gender           10000 non-null  object \n",
      " 6   Age              10000 non-null  int64  \n",
      " 7   Tenure           10000 non-null  int64  \n",
      " 8   Balance          10000 non-null  float64\n",
      " 9   NumOfProducts    10000 non-null  int64  \n",
      " 10  HasCrCard        10000 non-null  int64  \n",
      " 11  IsActiveMember   10000 non-null  int64  \n",
      " 12  EstimatedSalary  10000 non-null  float64\n",
      " 13  Exited           10000 non-null  int64  \n",
      "dtypes: float64(2), int64(9), object(3)\n",
      "memory usage: 2.6 MB\n"
     ]
    }
   ],
   "source": [
    "df.info(memory_usage='deep')"
   ]
  },
  {
   "cell_type": "code",
   "execution_count": 5,
   "id": "0fa0478d",
   "metadata": {
    "scrolled": true
   },
   "outputs": [
    {
     "data": {
      "text/html": [
       "<div>\n",
       "<style scoped>\n",
       "    .dataframe tbody tr th:only-of-type {\n",
       "        vertical-align: middle;\n",
       "    }\n",
       "\n",
       "    .dataframe tbody tr th {\n",
       "        vertical-align: top;\n",
       "    }\n",
       "\n",
       "    .dataframe thead th {\n",
       "        text-align: right;\n",
       "    }\n",
       "</style>\n",
       "<table border=\"1\" class=\"dataframe\">\n",
       "  <thead>\n",
       "    <tr style=\"text-align: right;\">\n",
       "      <th></th>\n",
       "      <th>count</th>\n",
       "      <th>mean</th>\n",
       "      <th>std</th>\n",
       "      <th>min</th>\n",
       "      <th>25%</th>\n",
       "      <th>50%</th>\n",
       "      <th>75%</th>\n",
       "      <th>max</th>\n",
       "    </tr>\n",
       "  </thead>\n",
       "  <tbody>\n",
       "    <tr>\n",
       "      <th>RowNumber</th>\n",
       "      <td>10000.0</td>\n",
       "      <td>5.000500e+03</td>\n",
       "      <td>2886.895680</td>\n",
       "      <td>1.00</td>\n",
       "      <td>2500.75</td>\n",
       "      <td>5.000500e+03</td>\n",
       "      <td>7.500250e+03</td>\n",
       "      <td>10000.00</td>\n",
       "    </tr>\n",
       "    <tr>\n",
       "      <th>CustomerId</th>\n",
       "      <td>10000.0</td>\n",
       "      <td>1.569094e+07</td>\n",
       "      <td>71936.186123</td>\n",
       "      <td>15565701.00</td>\n",
       "      <td>15628528.25</td>\n",
       "      <td>1.569074e+07</td>\n",
       "      <td>1.575323e+07</td>\n",
       "      <td>15815690.00</td>\n",
       "    </tr>\n",
       "    <tr>\n",
       "      <th>CreditScore</th>\n",
       "      <td>10000.0</td>\n",
       "      <td>6.505288e+02</td>\n",
       "      <td>96.653299</td>\n",
       "      <td>350.00</td>\n",
       "      <td>584.00</td>\n",
       "      <td>6.520000e+02</td>\n",
       "      <td>7.180000e+02</td>\n",
       "      <td>850.00</td>\n",
       "    </tr>\n",
       "    <tr>\n",
       "      <th>Age</th>\n",
       "      <td>10000.0</td>\n",
       "      <td>3.892180e+01</td>\n",
       "      <td>10.487806</td>\n",
       "      <td>18.00</td>\n",
       "      <td>32.00</td>\n",
       "      <td>3.700000e+01</td>\n",
       "      <td>4.400000e+01</td>\n",
       "      <td>92.00</td>\n",
       "    </tr>\n",
       "    <tr>\n",
       "      <th>Tenure</th>\n",
       "      <td>10000.0</td>\n",
       "      <td>5.012800e+00</td>\n",
       "      <td>2.892174</td>\n",
       "      <td>0.00</td>\n",
       "      <td>3.00</td>\n",
       "      <td>5.000000e+00</td>\n",
       "      <td>7.000000e+00</td>\n",
       "      <td>10.00</td>\n",
       "    </tr>\n",
       "    <tr>\n",
       "      <th>Balance</th>\n",
       "      <td>10000.0</td>\n",
       "      <td>7.648589e+04</td>\n",
       "      <td>62397.405202</td>\n",
       "      <td>0.00</td>\n",
       "      <td>0.00</td>\n",
       "      <td>9.719854e+04</td>\n",
       "      <td>1.276442e+05</td>\n",
       "      <td>250898.09</td>\n",
       "    </tr>\n",
       "    <tr>\n",
       "      <th>NumOfProducts</th>\n",
       "      <td>10000.0</td>\n",
       "      <td>1.530200e+00</td>\n",
       "      <td>0.581654</td>\n",
       "      <td>1.00</td>\n",
       "      <td>1.00</td>\n",
       "      <td>1.000000e+00</td>\n",
       "      <td>2.000000e+00</td>\n",
       "      <td>4.00</td>\n",
       "    </tr>\n",
       "    <tr>\n",
       "      <th>HasCrCard</th>\n",
       "      <td>10000.0</td>\n",
       "      <td>7.055000e-01</td>\n",
       "      <td>0.455840</td>\n",
       "      <td>0.00</td>\n",
       "      <td>0.00</td>\n",
       "      <td>1.000000e+00</td>\n",
       "      <td>1.000000e+00</td>\n",
       "      <td>1.00</td>\n",
       "    </tr>\n",
       "    <tr>\n",
       "      <th>IsActiveMember</th>\n",
       "      <td>10000.0</td>\n",
       "      <td>5.151000e-01</td>\n",
       "      <td>0.499797</td>\n",
       "      <td>0.00</td>\n",
       "      <td>0.00</td>\n",
       "      <td>1.000000e+00</td>\n",
       "      <td>1.000000e+00</td>\n",
       "      <td>1.00</td>\n",
       "    </tr>\n",
       "    <tr>\n",
       "      <th>EstimatedSalary</th>\n",
       "      <td>10000.0</td>\n",
       "      <td>1.000902e+05</td>\n",
       "      <td>57510.492818</td>\n",
       "      <td>11.58</td>\n",
       "      <td>51002.11</td>\n",
       "      <td>1.001939e+05</td>\n",
       "      <td>1.493882e+05</td>\n",
       "      <td>199992.48</td>\n",
       "    </tr>\n",
       "    <tr>\n",
       "      <th>Exited</th>\n",
       "      <td>10000.0</td>\n",
       "      <td>2.037000e-01</td>\n",
       "      <td>0.402769</td>\n",
       "      <td>0.00</td>\n",
       "      <td>0.00</td>\n",
       "      <td>0.000000e+00</td>\n",
       "      <td>0.000000e+00</td>\n",
       "      <td>1.00</td>\n",
       "    </tr>\n",
       "  </tbody>\n",
       "</table>\n",
       "</div>"
      ],
      "text/plain": [
       "                   count          mean           std          min  \\\n",
       "RowNumber        10000.0  5.000500e+03   2886.895680         1.00   \n",
       "CustomerId       10000.0  1.569094e+07  71936.186123  15565701.00   \n",
       "CreditScore      10000.0  6.505288e+02     96.653299       350.00   \n",
       "Age              10000.0  3.892180e+01     10.487806        18.00   \n",
       "Tenure           10000.0  5.012800e+00      2.892174         0.00   \n",
       "Balance          10000.0  7.648589e+04  62397.405202         0.00   \n",
       "NumOfProducts    10000.0  1.530200e+00      0.581654         1.00   \n",
       "HasCrCard        10000.0  7.055000e-01      0.455840         0.00   \n",
       "IsActiveMember   10000.0  5.151000e-01      0.499797         0.00   \n",
       "EstimatedSalary  10000.0  1.000902e+05  57510.492818        11.58   \n",
       "Exited           10000.0  2.037000e-01      0.402769         0.00   \n",
       "\n",
       "                         25%           50%           75%          max  \n",
       "RowNumber            2500.75  5.000500e+03  7.500250e+03     10000.00  \n",
       "CustomerId       15628528.25  1.569074e+07  1.575323e+07  15815690.00  \n",
       "CreditScore           584.00  6.520000e+02  7.180000e+02       850.00  \n",
       "Age                    32.00  3.700000e+01  4.400000e+01        92.00  \n",
       "Tenure                  3.00  5.000000e+00  7.000000e+00        10.00  \n",
       "Balance                 0.00  9.719854e+04  1.276442e+05    250898.09  \n",
       "NumOfProducts           1.00  1.000000e+00  2.000000e+00         4.00  \n",
       "HasCrCard               0.00  1.000000e+00  1.000000e+00         1.00  \n",
       "IsActiveMember          0.00  1.000000e+00  1.000000e+00         1.00  \n",
       "EstimatedSalary     51002.11  1.001939e+05  1.493882e+05    199992.48  \n",
       "Exited                  0.00  0.000000e+00  0.000000e+00         1.00  "
      ]
     },
     "execution_count": 5,
     "metadata": {},
     "output_type": "execute_result"
    }
   ],
   "source": [
    "df.describe().T"
   ]
  },
  {
   "cell_type": "markdown",
   "id": "651f563e",
   "metadata": {},
   "source": [
    "### Вывод\n",
    " В таблице находятся 10000 записей и 14 характеристик. Данные пропусков не содержат. Для колонок HasCrCard, IsActiveMember, Exited используется тип данных int64, занимающий 8 байтов для каждого значения. Однако, значения там лишь {0,1} и для оптимизации можно использовать тип данных uint8 c диапазоном значений (min=0, max=255), занимающий 1 байт. Для оптимизации колонок NumOfProducts (min = 0, max = 4), Age (min = 18, max = 92) также лучше использовать тип данных uint8.  \n",
    " Для CreditScore (min = 350, max = 850) вместо int64 лучше использовать int16 (значения от -32,768 до 32,767, 2 байта). \n",
    "  Колонки Surname, RowNumber и CustomerId можно убрать, так как в Pandas подсчёт записей осуществляется автоматически, а уникальный ID пользователя для нас не информативен."
   ]
  },
  {
   "cell_type": "markdown",
   "id": "5bd9ec16",
   "metadata": {},
   "source": [
    "---"
   ]
  },
  {
   "cell_type": "markdown",
   "id": "02ba3cb1",
   "metadata": {},
   "source": [
    "## Оптимизация датасета"
   ]
  },
  {
   "cell_type": "code",
   "execution_count": 6,
   "id": "602d18cb",
   "metadata": {},
   "outputs": [],
   "source": [
    "df = df.astype({'HasCrCard': np.uint8,\n",
    "                'IsActiveMember': np.uint8,\n",
    "                'Exited': np.uint8,\n",
    "                'NumOfProducts': np.uint8,\n",
    "                'Age': np.uint8,\n",
    "                'CreditScore': np.int16})"
   ]
  },
  {
   "cell_type": "code",
   "execution_count": 7,
   "id": "f0d3bbeb",
   "metadata": {
    "scrolled": false
   },
   "outputs": [
    {
     "name": "stdout",
     "output_type": "stream",
     "text": [
      "<class 'pandas.core.frame.DataFrame'>\n",
      "RangeIndex: 10000 entries, 0 to 9999\n",
      "Data columns (total 14 columns):\n",
      " #   Column           Non-Null Count  Dtype  \n",
      "---  ------           --------------  -----  \n",
      " 0   RowNumber        10000 non-null  int64  \n",
      " 1   CustomerId       10000 non-null  int64  \n",
      " 2   Surname          10000 non-null  object \n",
      " 3   CreditScore      10000 non-null  int16  \n",
      " 4   Geography        10000 non-null  object \n",
      " 5   Gender           10000 non-null  object \n",
      " 6   Age              10000 non-null  uint8  \n",
      " 7   Tenure           10000 non-null  int64  \n",
      " 8   Balance          10000 non-null  float64\n",
      " 9   NumOfProducts    10000 non-null  uint8  \n",
      " 10  HasCrCard        10000 non-null  uint8  \n",
      " 11  IsActiveMember   10000 non-null  uint8  \n",
      " 12  EstimatedSalary  10000 non-null  float64\n",
      " 13  Exited           10000 non-null  uint8  \n",
      "dtypes: float64(2), int16(1), int64(3), object(3), uint8(5)\n",
      "memory usage: 2.2 MB\n"
     ]
    }
   ],
   "source": [
    "df.info(memory_usage='deep')"
   ]
  },
  {
   "cell_type": "code",
   "execution_count": 8,
   "id": "c12e4d86",
   "metadata": {},
   "outputs": [],
   "source": [
    "df = df.drop('RowNumber', 1)\n",
    "df = df.drop('CustomerId', 1)\n",
    "df = df.drop('Surname', 1)"
   ]
  },
  {
   "cell_type": "code",
   "execution_count": 9,
   "id": "6ee502e8",
   "metadata": {},
   "outputs": [
    {
     "name": "stdout",
     "output_type": "stream",
     "text": [
      "<class 'pandas.core.frame.DataFrame'>\n",
      "RangeIndex: 10000 entries, 0 to 9999\n",
      "Data columns (total 11 columns):\n",
      " #   Column           Non-Null Count  Dtype  \n",
      "---  ------           --------------  -----  \n",
      " 0   CreditScore      10000 non-null  int16  \n",
      " 1   Geography        10000 non-null  object \n",
      " 2   Gender           10000 non-null  object \n",
      " 3   Age              10000 non-null  uint8  \n",
      " 4   Tenure           10000 non-null  int64  \n",
      " 5   Balance          10000 non-null  float64\n",
      " 6   NumOfProducts    10000 non-null  uint8  \n",
      " 7   HasCrCard        10000 non-null  uint8  \n",
      " 8   IsActiveMember   10000 non-null  uint8  \n",
      " 9   EstimatedSalary  10000 non-null  float64\n",
      " 10  Exited           10000 non-null  uint8  \n",
      "dtypes: float64(2), int16(1), int64(1), object(2), uint8(5)\n",
      "memory usage: 1.5 MB\n"
     ]
    }
   ],
   "source": [
    "df.info(memory_usage='deep')"
   ]
  },
  {
   "cell_type": "markdown",
   "id": "7d588dd5",
   "metadata": {},
   "source": [
    "### Вывод\n",
    "В результате замены типов данных и избавления от неинформативных характеристик использование памяти сократилось почти на 45%. (с 2.6 МB до 1.5 MB)."
   ]
  },
  {
   "cell_type": "markdown",
   "id": "c325be54",
   "metadata": {},
   "source": [
    "---"
   ]
  },
  {
   "cell_type": "markdown",
   "id": "8ebf698d",
   "metadata": {},
   "source": [
    "## Поиск дубликатов"
   ]
  },
  {
   "cell_type": "code",
   "execution_count": 10,
   "id": "eb1760ff",
   "metadata": {},
   "outputs": [
    {
     "name": "stdout",
     "output_type": "stream",
     "text": [
      "Количество полных дубликатов в датасете: 0\n"
     ]
    }
   ],
   "source": [
    "print(f'Количество полных дубликатов в датасете: {df.duplicated().sum()}')"
   ]
  },
  {
   "cell_type": "markdown",
   "id": "81b86ab9",
   "metadata": {},
   "source": [
    "### Вывод\n",
    "Дубликаты отсутствуют"
   ]
  },
  {
   "cell_type": "markdown",
   "id": "5b24b097",
   "metadata": {},
   "source": [
    "---"
   ]
  },
  {
   "cell_type": "markdown",
   "id": "aca63a12",
   "metadata": {},
   "source": [
    "## Лемматизация\n",
    "Лемматизация - это приведение слов к общему корню. Оно осуществляется для удобства последующей категоризации. Для начала нужно выяснить, какие столбцы нуждаются в лемматизации. Для этого выведем списки уникальных значений всех столбцов, имеющих тип данных object."
   ]
  },
  {
   "cell_type": "code",
   "execution_count": 11,
   "id": "01fc8a85",
   "metadata": {
    "scrolled": true
   },
   "outputs": [
    {
     "name": "stdout",
     "output_type": "stream",
     "text": [
      "Страны: France, Spain, Germany\n",
      "Гендеры: Female, Male\n",
      "Уникальных значений в столбце Geography_unique: 3\n",
      "Уникальных значений в столбце Gender_unique: 2\n"
     ]
    }
   ],
   "source": [
    "Geography_unique = df['Geography'].unique()\n",
    "Gender_unique = df['Gender'].unique()\n",
    "print('Страны: {}'.format(', '.join(Geography_unique)))\n",
    "print('Гендеры: {}'.format(', '.join(Gender_unique)))\n",
    "print(f'Уникальных значений в столбце Geography_unique: {len(Geography_unique)}')\n",
    "print(f'Уникальных значений в столбце Gender_unique: {len(Gender_unique)}')"
   ]
  },
  {
   "cell_type": "markdown",
   "id": "8142efd3",
   "metadata": {},
   "source": [
    "### Вывод\n",
    "Данные не нуждаются в лемматизации"
   ]
  },
  {
   "cell_type": "markdown",
   "id": "327fc46d",
   "metadata": {},
   "source": [
    "---"
   ]
  },
  {
   "cell_type": "markdown",
   "id": "352c418b",
   "metadata": {},
   "source": [
    "## Статистический анализ данных"
   ]
  },
  {
   "cell_type": "code",
   "execution_count": 42,
   "id": "b8a644d2",
   "metadata": {
    "scrolled": false
   },
   "outputs": [
    {
     "data": {
      "image/png": "[encoded data removed]",
      "text/plain": [
       "<Figure size 864x864 with 2 Axes>"
      ]
     },
     "metadata": {
      "needs_background": "light"
     },
     "output_type": "display_data"
    }
   ],
   "source": [
    "plt.figure(figsize=(12,12));\n",
    "plt.title('Коэффициенты линейной корреляции характеристик\\n', fontsize=14);\n",
    "sns.heatmap(df.corr(), cmap='magma', annot=True);"
   ]
  },
  {
   "cell_type": "markdown",
   "id": "6f5b367e",
   "metadata": {},
   "source": [
    "### Вывод\n",
    "1. Чем старше клиент, тем выше показатель его оттока\n",
    "2. Отток среди активных клиентов ниже"
   ]
  },
  {
   "cell_type": "markdown",
   "id": "feb3214e",
   "metadata": {},
   "source": [
    "### Есть ли зависимость между страной и оттоком клиентов?"
   ]
  },
  {
   "cell_type": "code",
   "execution_count": 44,
   "id": "7a8b4e70",
   "metadata": {},
   "outputs": [
    {
     "data": {
      "image/png": "[encoded data removed]",
      "text/plain": [
       "<Figure size 432x288 with 1 Axes>"
      ]
     },
     "metadata": {
      "needs_background": "light"
     },
     "output_type": "display_data"
    }
   ],
   "source": [
    "geography_aggregated = df.groupby(by='Geography')['Exited'].sum()\n",
    "\n",
    "plt.title('Клиенты из разных стран, отказавшиеся от услуг банка')\n",
    "plt.ylabel('Количество людей')\n",
    "sns.barplot(x=geography_aggregated.index.values, y=geography_aggregated.values);"
   ]
  },
  {
   "cell_type": "code",
   "execution_count": 45,
   "id": "44d3ece2",
   "metadata": {},
   "outputs": [
    {
     "name": "stdout",
     "output_type": "stream",
     "text": [
      "Общее количество клиентов из различных стран:\n"
     ]
    },
    {
     "data": {
      "text/plain": [
       "Geography\n",
       "France     5014\n",
       "Germany    2509\n",
       "Spain      2477\n",
       "Name: Exited, dtype: int64"
      ]
     },
     "execution_count": 45,
     "metadata": {},
     "output_type": "execute_result"
    }
   ],
   "source": [
    "print('Общее количество клиентов из различных стран:')\n",
    "df.groupby(by='Geography')['Exited'].count()"
   ]
  },
  {
   "cell_type": "markdown",
   "id": "bc24ddf7",
   "metadata": {},
   "source": [
    "### Вывод\n",
    "Несмотря на то, что в Германии и Испании количество пользователей банка приблизительно равно (2509 и 2477 человек соответственно), отток клиентов в Германии сопоставим с оттоком клиентов во Франции (при двухкратной разнице в количестве пользователей, во Франции их 5014). Таким образом, клиенты из Германии показывают наименьшую лояльность"
   ]
  },
  {
   "cell_type": "markdown",
   "id": "dbe9f228",
   "metadata": {},
   "source": [
    "### Есть ли зависимость между полом и оттоком клиентов?"
   ]
  },
  {
   "cell_type": "code",
   "execution_count": 18,
   "id": "36726933",
   "metadata": {},
   "outputs": [
    {
     "data": {
      "image/png": "[encoded data removed]",
      "text/plain": [
       "<Figure size 432x288 with 1 Axes>"
      ]
     },
     "metadata": {
      "needs_background": "light"
     },
     "output_type": "display_data"
    }
   ],
   "source": [
    "gender_aggregated = df.groupby(by='Gender')['Exited'].sum()\n",
    "sns.barplot(x=gender_aggregated.index.values, y=gender_aggregated.values);"
   ]
  },
  {
   "cell_type": "markdown",
   "id": "80aaf328",
   "metadata": {},
   "source": [
    "### Вывод\n",
    "Хоть количество клиентов-мужчин (5457) и больше, чем клиентов-женщин (4543), однако отток среди них встречается реже приблизительно на 20 %"
   ]
  },
  {
   "cell_type": "markdown",
   "id": "757d5030",
   "metadata": {},
   "source": [
    "### Есть ли зависимость между возрастом и оттоком клиентов"
   ]
  },
  {
   "cell_type": "code",
   "execution_count": 63,
   "id": "478a1908",
   "metadata": {},
   "outputs": [
    {
     "data": {
      "image/png": "[encoded data removed]",
      "text/plain": [
       "<Figure size 1152x1152 with 1 Axes>"
      ]
     },
     "metadata": {
      "needs_background": "light"
     },
     "output_type": "display_data"
    }
   ],
   "source": [
    "age_aggregated = df.groupby(by='Age')['Exited'].sum()\n",
    "\n",
    "plt.figure(figsize=(16,16));\n",
    "plt.title('Отток клиентов в зависимости от возраста', fontsize=14);\n",
    "plt.xlabel('Количество людей, закрывших счёт', fontsize=14);\n",
    "plt.ylabel('Возраст', fontsize=14);\n",
    "sns.barplot(x=age_aggregated.index.values, y=age_aggregated.values);"
   ]
  },
  {
   "cell_type": "markdown",
   "id": "edfd9d39",
   "metadata": {},
   "source": [
    "### Вывод\n",
    "График выглядит колоковидно, однако можно заметить, что правая (относительно среднего) часть графика все же больше левой, что говорит о повышенной тенденции оттока среди людей пожилого возраста"
   ]
  },
  {
   "cell_type": "markdown",
   "id": "9270f398",
   "metadata": {},
   "source": [
    "### Есть ли зависимость между балансом и оттоком клиентов?\n",
    "Разделим баланс по процентилям 33% и 66% и отделим нулевые значения"
   ]
  },
  {
   "cell_type": "code",
   "execution_count": 21,
   "id": "cc583d8f",
   "metadata": {},
   "outputs": [],
   "source": [
    "zero_balances = df[df['Balance'] == 0]"
   ]
  },
  {
   "cell_type": "code",
   "execution_count": 22,
   "id": "a5809af3",
   "metadata": {},
   "outputs": [
    {
     "data": {
      "text/plain": [
       "count      6383.000000\n",
       "mean     119827.493793\n",
       "std       30095.056462\n",
       "min        3768.690000\n",
       "33%      106901.451200\n",
       "50%      119839.690000\n",
       "66%      131564.570000\n",
       "max      250898.090000\n",
       "Name: Balance, dtype: float64"
      ]
     },
     "execution_count": 22,
     "metadata": {},
     "output_type": "execute_result"
    }
   ],
   "source": [
    "balance_metrics = df[df['Balance'] > 0]['Balance'].describe(percentiles=[.33, .66])\n",
    "balance_metrics"
   ]
  },
  {
   "cell_type": "code",
   "execution_count": 23,
   "id": "72b23de1",
   "metadata": {},
   "outputs": [],
   "source": [
    "procentile_33 = balance_metrics[4]\n",
    "procentile_66 = balance_metrics[6]"
   ]
  },
  {
   "cell_type": "code",
   "execution_count": 24,
   "id": "3f4b4d19",
   "metadata": {},
   "outputs": [],
   "source": [
    "def balance_to_categories(row):\n",
    "    if row <= procentile_33:\n",
    "        return 'low_balance'\n",
    "    elif procentile_33 < row < procentile_66:\n",
    "        return 'medium_balance'\n",
    "    else:\n",
    "        return 'high_balance'"
   ]
  },
  {
   "cell_type": "code",
   "execution_count": 25,
   "id": "fb976c6c",
   "metadata": {},
   "outputs": [],
   "source": [
    "df['Balance_category'] = df['Balance'].apply(balance_to_categories)"
   ]
  },
  {
   "cell_type": "code",
   "execution_count": 26,
   "id": "652be1f6",
   "metadata": {},
   "outputs": [
    {
     "data": {
      "image/png": "[encoded data removed]",
      "text/plain": [
       "<Figure size 432x288 with 1 Axes>"
      ]
     },
     "metadata": {
      "needs_background": "light"
     },
     "output_type": "display_data"
    }
   ],
   "source": [
    "balance_aggregated = df.groupby(by='Balance_category')['Exited'].sum().sort_values()\n",
    "sns.barplot(x=balance_aggregated.index.values, y=balance_aggregated.values);\n"
   ]
  },
  {
   "cell_type": "code",
   "execution_count": 27,
   "id": "d52832ba",
   "metadata": {},
   "outputs": [
    {
     "data": {
      "text/plain": [
       "Balance_category\n",
       "high_balance      2170\n",
       "low_balance       5724\n",
       "medium_balance    2106\n",
       "Name: Exited, dtype: int64"
      ]
     },
     "execution_count": 27,
     "metadata": {},
     "output_type": "execute_result"
    }
   ],
   "source": [
    "df.groupby(by='Balance_category')['Exited'].count()"
   ]
  },
  {
   "cell_type": "markdown",
   "id": "aa448201",
   "metadata": {},
   "source": [
    "### Вывод\n",
    "Отток пользователей не коррелирует с балансом, так как количество ушедших пользователей больше в той категории баланса, где пользователей самих по себе больше"
   ]
  },
  {
   "cell_type": "markdown",
   "id": "b7956a25",
   "metadata": {},
   "source": [
    "### Есть ли зависимость между количеством используемых продуктов и оттоком клиентов?"
   ]
  },
  {
   "cell_type": "code",
   "execution_count": 28,
   "id": "684cf07c",
   "metadata": {},
   "outputs": [
    {
     "data": {
      "image/png": "[encoded data removed]",
      "text/plain": [
       "<Figure size 432x288 with 1 Axes>"
      ]
     },
     "metadata": {
      "needs_background": "light"
     },
     "output_type": "display_data"
    }
   ],
   "source": [
    "num_of_products_aggregated = df.groupby(by='NumOfProducts')['Exited'].sum()\n",
    "sns.barplot(x=num_of_products_aggregated.index.values, y=num_of_products_aggregated.values);"
   ]
  },
  {
   "cell_type": "code",
   "execution_count": 29,
   "id": "2cc764cb",
   "metadata": {},
   "outputs": [
    {
     "data": {
      "text/plain": [
       "NumOfProducts\n",
       "1    5084\n",
       "2    4590\n",
       "3     266\n",
       "4      60\n",
       "Name: Exited, dtype: int64"
      ]
     },
     "execution_count": 29,
     "metadata": {},
     "output_type": "execute_result"
    }
   ],
   "source": [
    "df.groupby(by='NumOfProducts')['Exited'].count()"
   ]
  },
  {
   "cell_type": "markdown",
   "id": "c428d351",
   "metadata": {},
   "source": [
    "### Вывод\n",
    "Несмотря на то, что клиентов, которые используют два продукта лишь на 494 человека меньше, значения оттока в этих категориях разительно отличаются: количество ушедших при использовании двух продуктов против одного меньше почти в 4 раза."
   ]
  },
  {
   "cell_type": "markdown",
   "id": "75ed50a7",
   "metadata": {},
   "source": [
    "### Есть ли зависимость между наличием кредитной карты и оттоком клиентов?"
   ]
  },
  {
   "cell_type": "code",
   "execution_count": 30,
   "id": "f9d69657",
   "metadata": {},
   "outputs": [
    {
     "data": {
      "image/png": "[encoded data removed]",
      "text/plain": [
       "<Figure size 432x288 with 1 Axes>"
      ]
     },
     "metadata": {
      "needs_background": "light"
     },
     "output_type": "display_data"
    }
   ],
   "source": [
    "credit_card_aggregated = df.groupby(by='HasCrCard')['Exited'].sum()\n",
    "sns.barplot(x=credit_card_aggregated.index.values, y=credit_card_aggregated.values);"
   ]
  },
  {
   "cell_type": "code",
   "execution_count": 31,
   "id": "8249716e",
   "metadata": {},
   "outputs": [
    {
     "data": {
      "text/plain": [
       "HasCrCard\n",
       "0    2945\n",
       "1    7055\n",
       "Name: Exited, dtype: int64"
      ]
     },
     "execution_count": 31,
     "metadata": {},
     "output_type": "execute_result"
    }
   ],
   "source": [
    "df.groupby(by='HasCrCard')['Exited'].count()"
   ]
  },
  {
   "cell_type": "markdown",
   "id": "1f61469a",
   "metadata": {},
   "source": [
    "### Вывод\n",
    "Пользователей с кредитной картой больше (7055), чем без неё (2945). И это напрямую связано с тем, что количество ушедших пользователей с кредитной картой приблизительно в два раза больше"
   ]
  },
  {
   "cell_type": "markdown",
   "id": "577fc55f",
   "metadata": {},
   "source": [
    "### Есть ли зависимость между активностью клиентов и их оттоком?"
   ]
  },
  {
   "cell_type": "code",
   "execution_count": 32,
   "id": "411bb831",
   "metadata": {},
   "outputs": [
    {
     "data": {
      "image/png": "[encoded data removed]",
      "text/plain": [
       "<Figure size 432x288 with 1 Axes>"
      ]
     },
     "metadata": {
      "needs_background": "light"
     },
     "output_type": "display_data"
    }
   ],
   "source": [
    "activ_aggregated = df.groupby(by='IsActiveMember')['Exited'].sum()\n",
    "sns.barplot(x=activ_aggregated.index.values, y=activ_aggregated.values);"
   ]
  },
  {
   "cell_type": "code",
   "execution_count": 33,
   "id": "09924c0d",
   "metadata": {},
   "outputs": [
    {
     "data": {
      "text/plain": [
       "IsActiveMember\n",
       "0    4849\n",
       "1    5151\n",
       "Name: Exited, dtype: int64"
      ]
     },
     "execution_count": 33,
     "metadata": {},
     "output_type": "execute_result"
    }
   ],
   "source": [
    "df.groupby(by='IsActiveMember')['Exited'].count()"
   ]
  },
  {
   "cell_type": "markdown",
   "id": "faaa9954",
   "metadata": {},
   "source": [
    "### Вывод\n",
    "При приблизительно равном количестве пользователей в категориях активности (4849 и 5151) отток активных пользователей почти в два раза меньше"
   ]
  },
  {
   "cell_type": "markdown",
   "id": "14c19364",
   "metadata": {},
   "source": [
    "### Зависимость заработной платы и оттока"
   ]
  },
  {
   "cell_type": "code",
   "execution_count": 34,
   "id": "ba195c02",
   "metadata": {},
   "outputs": [
    {
     "data": {
      "text/plain": [
       "count     10000\n",
       "mean     100090\n",
       "std       57510\n",
       "min          11\n",
       "33%       66392\n",
       "50%      100193\n",
       "66%      131508\n",
       "max      199992\n",
       "Name: EstimatedSalary, dtype: uint32"
      ]
     },
     "execution_count": 34,
     "metadata": {},
     "output_type": "execute_result"
    }
   ],
   "source": [
    "salary_metrics = df['EstimatedSalary'].describe(percentiles=[.33, .66]).astype(np.uint32)\n",
    "salary_metrics"
   ]
  },
  {
   "cell_type": "code",
   "execution_count": 35,
   "id": "8e9cb2a2",
   "metadata": {},
   "outputs": [],
   "source": [
    "salary_33 = salary_metrics[4]\n",
    "salary_66 = salary_metrics[6]"
   ]
  },
  {
   "cell_type": "code",
   "execution_count": 36,
   "id": "e7b715fe",
   "metadata": {},
   "outputs": [],
   "source": [
    "def salary_to_categories(row):\n",
    "    if row <= procentile_33:\n",
    "        return 'low_salary'\n",
    "    elif procentile_33 < row < procentile_66:\n",
    "        return 'medium_salary'\n",
    "    else:\n",
    "        return 'high_salary'"
   ]
  },
  {
   "cell_type": "code",
   "execution_count": 37,
   "id": "e1ceeece",
   "metadata": {},
   "outputs": [],
   "source": [
    "df['Salary_category'] = df['EstimatedSalary'].apply(salary_to_categories)"
   ]
  },
  {
   "cell_type": "code",
   "execution_count": 38,
   "id": "c1fcf1e6",
   "metadata": {},
   "outputs": [
    {
     "data": {
      "image/png": "[encoded data removed]",
      "text/plain": [
       "<Figure size 432x288 with 1 Axes>"
      ]
     },
     "metadata": {
      "needs_background": "light"
     },
     "output_type": "display_data"
    }
   ],
   "source": [
    "salary_aggregated = df.groupby(by='Salary_category')['Exited'].sum().sort_values()\n",
    "sns.barplot(x=salary_aggregated.index.values, y=salary_aggregated.values);"
   ]
  },
  {
   "cell_type": "code",
   "execution_count": 39,
   "id": "5c1e7d34",
   "metadata": {},
   "outputs": [
    {
     "data": {
      "text/plain": [
       "Salary_category\n",
       "high_salary      3397\n",
       "low_salary       5368\n",
       "medium_salary    1235\n",
       "Name: Exited, dtype: int64"
      ]
     },
     "execution_count": 39,
     "metadata": {},
     "output_type": "execute_result"
    }
   ],
   "source": [
    "df.groupby(by='Salary_category')['Exited'].count()"
   ]
  },
  {
   "cell_type": "markdown",
   "id": "1796bf30",
   "metadata": {},
   "source": [
    "### Вывод\n",
    "Количество ушедших пользователей больше в той категориях заработной платы, где пользователей самих по себе больше. Корреляции не наблюдается"
   ]
  }
 ],
 "metadata": {
  "kernelspec": {
   "display_name": "Python 3",
   "language": "python",
   "name": "python3"
  },
  "language_info": {
   "codemirror_mode": {
    "name": "ipython",
    "version": 3
   },
   "file_extension": ".py",
   "mimetype": "text/x-python",
   "name": "python",
   "nbconvert_exporter": "python",
   "pygments_lexer": "ipython3",
   "version": "3.8.8"
  }
 },
 "nbformat": 4,
 "nbformat_minor": 5
}
